{
 "cells": [
  {
   "cell_type": "markdown",
   "id": "fd2b244a",
   "metadata": {},
   "source": [
    "# MÓDULO 01: CARGA Y VALIDACIÓN DE TRANSCRIPCIONES"
   ]
  },
  {
   "cell_type": "code",
   "execution_count": 1,
   "id": "693d0317",
   "metadata": {},
   "outputs": [
    {
     "name": "stdout",
     "output_type": "stream",
     "text": [
      "Entorno detectado: Local\n",
      "Ruta base: G:/Mi unidad/TFM_EVA_MARTIN/Modulos\n"
     ]
    }
   ],
   "source": [
    "# ---------------------------------------------\n",
    "# ATENCION - FIJAR ESTAS VARIABLES ANTES DE EJECUTAR\n",
    "# ---------------------------------------------\n",
    "\n",
    "nombre_lote = \"LOTE_20250614\"\n",
    "\n",
    "nombre_modulo = \"MODULO_01\"\n",
    "\n",
    "# ---------------------------------------------\n",
    "# Configuración del entorno (Colab y Local)\n",
    "# ---------------------------------------------\n",
    "\n",
    "try:\n",
    "    import google.colab\n",
    "    EN_COLAB = True\n",
    "except ImportError:\n",
    "    EN_COLAB = False\n",
    "\n",
    "if EN_COLAB:\n",
    "    from google.colab import drive\n",
    "    drive.mount(\"/content/drive\", force_remount=True)\n",
    "    ruta_base = \"/content/drive/MyDrive/TFM_EVA_MARTIN/Modulos\"\n",
    "else:\n",
    "    ruta_base = \"G:/Mi unidad/TFM_EVA_MARTIN/Modulos\"\n",
    "\n",
    "print(f\"Entorno detectado: {'Google Colab' if EN_COLAB else 'Local'}\")\n",
    "print(f\"Ruta base: {ruta_base}\")\n"
   ]
  },
  {
   "cell_type": "code",
   "execution_count": 2,
   "id": "dfb80eb0",
   "metadata": {},
   "outputs": [],
   "source": [
    "# ------------------------------------\n",
    "# Cargar utilidades comunes\n",
    "# ------------------------------------\n",
    "import os\n",
    "import sys\n",
    "import pandas as pd\n",
    "ruta_config = os.path.join(ruta_base, \"config.yaml\")\n",
    "\n",
    "if ruta_base not in sys.path:\n",
    "    sys.path.append(ruta_base)\n",
    "import yaml\n",
    "import utilidades_comunes\n"
   ]
  },
  {
   "cell_type": "code",
   "execution_count": 3,
   "id": "167c745b",
   "metadata": {},
   "outputs": [
    {
     "name": "stderr",
     "output_type": "stream",
     "text": [
      "2025-06-15 15:17:42,284 - INFO - 📁 Entorno inicializado para MODULO_01\n",
      "2025-06-15 15:17:42,287 - INFO - 📂 Ruta entrada: G:/Mi unidad/TFM_EVA_MARTIN\\Modulos\\MODULO_00\\./salida\n",
      "2025-06-15 15:17:42,287 - INFO - 📂 Ruta salida: G:/Mi unidad/TFM_EVA_MARTIN/Modulos\\MODULO_01\\./salida\n",
      "2025-06-15 15:17:42,287 - INFO - 📂 Ruta logs: G:/Mi unidad/TFM_EVA_MARTIN/Modulos\\MODULO_01\\./logs\n",
      "2025-06-15 15:17:42,304 - INFO - 📂 Ruta ejemplos: G:/Mi unidad/TFM_EVA_MARTIN/Modulos\\MODULO_01\\./ejemplos\n",
      "2025-06-15 15:17:42,306 - INFO - 🔗 Módulo anterior: MODULO_00\n",
      "2025-06-15 15:17:42,308 - INFO - 🆔 Lote ID: 20250614\n",
      "2025-06-15 15:17:42,311 - INFO - ⚠️ MODULO_01: se ha sobrescrito entorno['ruta_entrada'] con G:/Mi unidad/TFM_EVA_MARTIN\\DATA\\LOTE_20250614\n"
     ]
    }
   ],
   "source": [
    "# ------------------------------------\n",
    "# PASO 1: Configurar logger\n",
    "# ------------------------------------\n",
    "# 1. Configurar logger\n",
    "logger = utilidades_comunes.configurar_logger(nombre_modulo, ruta_logs=os.path.join(ruta_base, nombre_modulo, \"logs\"))\n",
    "\n",
    "# 2. Inicializar entorno\n",
    "entorno = utilidades_comunes.inicializar_entorno(nombre_modulo, nombre_lote, ruta_base, ruta_config, logger=logger)\n",
    "\n",
    "ruta_entrada = os.path.join(os.path.dirname(ruta_base), \"DATA\", nombre_lote)\n",
    "\n",
    "# Este módulo es el primero del flujo, por tanto se sobrescribe la ruta_entrada\n",
    "entorno[\"ruta_entrada\"] = os.path.join(os.path.dirname(ruta_base), \"DATA\", nombre_lote)\n",
    "logger.info(f\"⚠️ MODULO_01: se ha sobrescrito entorno['ruta_entrada'] con {entorno['ruta_entrada']}\")"
   ]
  },
  {
   "cell_type": "code",
   "execution_count": 4,
   "id": "44788da4",
   "metadata": {},
   "outputs": [
    {
     "name": "stdout",
     "output_type": "stream",
     "text": [
      "⏱️ 'cargar_transcripciones_txt' completado en 0.07 s.\n"
     ]
    }
   ],
   "source": [
    "\n",
    "# ------------------------------------\n",
    "# PASO 2: Cargar dataset entrada (conjunto de .txt)\n",
    "# ------------------------------------\n",
    "@utilidades_comunes.medir_tiempo\n",
    "def cargar_transcripciones_txt(ruta_entrada):\n",
    "    \"\"\"\n",
    "    Recorre la carpeta de .txt y devuelve un DataFrame con:\n",
    "      - nomfichero: nombre del fichero\n",
    "      - Etiqueta: parte del nombre antes del primer '_' (o adaptar extracción)\n",
    "      - Texto: contenido del fichero\n",
    "    \"\"\"\n",
    "    registros = []\n",
    "    for nomfichero in os.listdir(ruta_entrada):\n",
    "        if not nomfichero.endswith('.txt'):\n",
    "            continue\n",
    "        nomfichero_path = os.path.join(ruta_entrada, nomfichero)\n",
    "        try:\n",
    "            with open(nomfichero_path, 'r', encoding='utf-8') as f:\n",
    "                transcripcion = f.read().strip()\n",
    "        except UnicodeDecodeError:\n",
    "            with open(nomfichero_path, 'r', encoding='latin-1') as f:\n",
    "                transcripcion = f.read().strip()\n",
    "        if transcripcion:\n",
    "            # Extraer etiqueta; por ejemplo, parte antes del primer guión bajo\n",
    "            etiqueta = nomfichero.replace('.txt', '').split('_')[0]\n",
    "            registros.append({\n",
    "                'nomfichero': nomfichero,\n",
    "                'etiqueta': etiqueta,\n",
    "                'transcripcion': transcripcion\n",
    "            })\n",
    "    df = pd.DataFrame(registros, columns=['nomfichero', 'etiqueta', 'transcripcion'])\n",
    "    return df\n",
    "\n",
    "\n",
    "df_entrada = cargar_transcripciones_txt(ruta_entrada)"
   ]
  },
  {
   "cell_type": "code",
   "execution_count": 5,
   "id": "946f0793",
   "metadata": {},
   "outputs": [
    {
     "name": "stderr",
     "output_type": "stream",
     "text": [
      "2025-06-15 15:17:51,291 - INFO - Duplicados eliminados: 0\n"
     ]
    }
   ],
   "source": [
    "# ------------------------------------\n",
    "# PASO 3: Procesamiento específico del módulo\n",
    "# En este caso, simplemente eliminamos duplicados como validación mínima\n",
    "# ------------------------------------\n",
    "def procesamiento_modulo_01(df):\n",
    "    registros_antes = len(df)\n",
    "    df = df.drop_duplicates()\n",
    "    registros_despues = len(df)\n",
    "    logger.info(f\"Duplicados eliminados: {registros_antes - registros_despues}\")\n",
    "    return df\n",
    "\n",
    "df_salida = procesamiento_modulo_01(df_entrada)\n"
   ]
  },
  {
   "cell_type": "code",
   "execution_count": 6,
   "id": "c9e012d8",
   "metadata": {},
   "outputs": [
    {
     "name": "stderr",
     "output_type": "stream",
     "text": [
      "2025-06-15 15:17:54,726 - INFO - 🔍 Validando integridad del dataset...\n",
      "2025-06-15 15:17:54,729 - INFO - ✅ Columnas requeridas presentes: ['nomfichero', 'etiqueta', 'transcripcion']\n",
      "2025-06-15 15:17:54,732 - INFO - 📐 Dimensiones del dataset: 3 filas, 3 columnas\n",
      "2025-06-15 15:17:54,736 - INFO - ✅ Validación de integridad completada correctamente.\n"
     ]
    }
   ],
   "source": [
    "# ------------------------------------\n",
    "# PASO 4: Validación post-procesamiento\n",
    "# ------------------------------------\n",
    "\n",
    "utilidades_comunes.validar_integridad(df_salida, logger)"
   ]
  },
  {
   "cell_type": "code",
   "execution_count": 7,
   "id": "ef32b3bf",
   "metadata": {},
   "outputs": [
    {
     "name": "stderr",
     "output_type": "stream",
     "text": [
      "2025-06-15 15:17:58,734 - INFO - 📦 Dataset guardado en: G:/Mi unidad/TFM_EVA_MARTIN/Modulos\\MODULO_01\\./salida\\dataset_modulo_01_20250614.csv (3 filas, 3 columnas)\n"
     ]
    }
   ],
   "source": [
    "# ------------------------------------\n",
    "# PASO 5: Guardar dataset salida con nombre estándar\n",
    "# ------------------------------------\n",
    "nombre_salida = os.path.join(\n",
    "    entorno[\"ruta_salida\"],\n",
    "    f\"dataset_{nombre_modulo.lower()}_{entorno['lote_id']}.csv\"\n",
    ")\n",
    "\n",
    "utilidades_comunes.guardar_dataset(df_salida, nombre_salida, logger=logger)"
   ]
  },
  {
   "cell_type": "code",
   "execution_count": 8,
   "id": "7e873261",
   "metadata": {},
   "outputs": [
    {
     "name": "stderr",
     "output_type": "stream",
     "text": [
      "2025-06-15 15:18:01,760 - INFO - --- Muestra de modulo_01_20250614 (primeras 5 filas) ---\n",
      "2025-06-15 15:18:01,763 - INFO - Filas totales: 3, Columnas totales: 3\n",
      "2025-06-15 15:18:01,789 - INFO - \n",
      "| nomfichero                                                                         | etiqueta   | transcripcion                                                                                                                                                                                                                                                                                                                                                                                                                    |\n",
      "|:-----------------------------------------------------------------------------------|:-----------|:---------------------------------------------------------------------------------------------------------------------------------------------------------------------------------------------------------------------------------------------------------------------------------------------------------------------------------------------------------------------------------------------------------------------------------|\n",
      "| Positivo_[965021512]_MERIDIANO_900_GEN._2023-02-27_20-57-01.txt                    | Positivo   | Sí, sí, soy XXXXXX. Primero que todo, queríamos transmitir nuestras más sinceras condolencias, señora XXXXXX. Muchas gracias. Llegamos simplemente para confirmar que tanto el servicio como la atención que estaban recibiendo ustedes los familiares eran ambos correctos. Sí. Muchas gracias. Hasta luego.                                                                                                                    |\n",
      "| Neutro_SD23-03516_[965021512]_MERIDIANO_900_GEN._2023-02-27_10-18-51_674114825.txt | Neutro     | Bienvenido Meridiano. Por su seguridad, esta llamada podrá ser grabada. Usted consiente en que los datos que facilite se incorporen en un fichero titularidad de Meridiano S.A. con la finalidad de gestionar la prestación del servicio. Si ya conoce nuestra política de protección de datos y no desea escucharla nuevamente, pulse o diga cero. En breve será atendido por uno de nuestros agentes. Por favor, no se retire. |\n",
      "| Positivo_[965021512]_MERIDIANO_900_GEN._2023-02-28_15-57-35.txt                    | Positivo   | de asistencia. En primer lugar, nuestras más sinceras condolencias por el fallecimiento de su padre, don XXXXXX. El motivo de mi llamada era comprobar si el servicio de su padre se había desarrollado correctamente, si había algo que pudiéramos hacer para asistirles. ¿Tenían alguna duda del proceso? No, de momento va bien, la asistencia va bien. De acuerdo. Muy bien, pues muchas gracias.                            |\n",
      "2025-06-15 15:18:01,804 - INFO - \n",
      "--- Estadísticas básicas ---\n",
      "|               |   count |   unique | top                                                                                                                                                                                                                                                                                                           |   freq |\n",
      "|:--------------|--------:|---------:|:--------------------------------------------------------------------------------------------------------------------------------------------------------------------------------------------------------------------------------------------------------------------------------------------------------------|-------:|\n",
      "| nomfichero    |       3 |        3 | Positivo_[965021512]_MERIDIANO_900_GEN._2023-02-27_20-57-01.txt                                                                                                                                                                                                                                               |      1 |\n",
      "| etiqueta      |       3 |        2 | Positivo                                                                                                                                                                                                                                                                                                      |      2 |\n",
      "| transcripcion |       3 |        3 | Sí, sí, soy XXXXXX. Primero que todo, queríamos transmitir nuestras más sinceras condolencias, señora XXXXXX. Muchas gracias. Llegamos simplemente para confirmar que tanto el servicio como la atención que estaban recibiendo ustedes los familiares eran ambos correctos. Sí. Muchas gracias. Hasta luego. |      1 |\n",
      "2025-06-15 15:18:01,815 - INFO - ------------------------------------------------------------\n",
      "2025-06-15 15:18:01,818 - INFO - ✅ Finalización del procesamiento del MODULO_01\n",
      "2025-06-15 15:18:01,825 - INFO - 📦 Dataset final disponible en: G:/Mi unidad/TFM_EVA_MARTIN/Modulos\\MODULO_01\\./salida\\dataset_modulo_01_20250614.csv\n"
     ]
    }
   ],
   "source": [
    "# ------------------------------------\n",
    "# PASO 6: Mostrar muestra final\n",
    "# ------------------------------------\n",
    "nombre_muestra = f\"{nombre_modulo.lower()}_{entorno['lote_id']}\"\n",
    "\n",
    "utilidades_comunes.mostrar_muestra_dataset(df_salida, nombre_muestra, logger=logger)\n",
    "\n",
    "logger.info(f\"✅ Finalización del procesamiento del {nombre_modulo}\")\n",
    "logger.info(f\"📦 Dataset final disponible en: {nombre_salida}\")"
   ]
  },
  {
   "cell_type": "code",
   "execution_count": 9,
   "id": "fd15810b",
   "metadata": {},
   "outputs": [
    {
     "name": "stderr",
     "output_type": "stream",
     "text": [
      "2025-06-15 15:18:12,240 - INFO - 💾 Muestra guardada en G:/Mi unidad/TFM_EVA_MARTIN/Modulos\\MODULO_01\\./ejemplos\\muestra_modulo_01_20250614.csv (3 filas)\n"
     ]
    }
   ],
   "source": [
    "# ------------------------------------\n",
    "# PASO 7: Guardar muestra en carpeta /ejemplos\n",
    "# ------------------------------------\n",
    "\n",
    "utilidades_comunes.guardar_muestra_dataset(\n",
    "    df_salida,\n",
    "    nombre_muestra,\n",
    "    entorno[\"ruta_ejemplos\"],\n",
    "    logger=logger\n",
    ")"
   ]
  }
 ],
 "metadata": {
  "kernelspec": {
   "display_name": "miar_rl",
   "language": "python",
   "name": "python3"
  },
  "language_info": {
   "codemirror_mode": {
    "name": "ipython",
    "version": 3
   },
   "file_extension": ".py",
   "mimetype": "text/x-python",
   "name": "python",
   "nbconvert_exporter": "python",
   "pygments_lexer": "ipython3",
   "version": "3.8.20"
  }
 },
 "nbformat": 4,
 "nbformat_minor": 5
}
