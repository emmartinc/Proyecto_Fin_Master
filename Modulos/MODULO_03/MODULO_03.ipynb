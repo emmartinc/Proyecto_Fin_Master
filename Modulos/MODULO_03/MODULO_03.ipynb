{
 "cells": [
  {
   "cell_type": "markdown",
   "id": "fd2b244a",
   "metadata": {},
   "source": [
    "# MODULO_03 EXTRACCIÓN LISTA DE TERMINOS RELEVANTES"
   ]
  },
  {
   "cell_type": "markdown",
   "id": "858f1746",
   "metadata": {},
   "source": [
    "# ---------------------------------------------\n",
    "# ATENCIÓN - FIJAR ESTAS VARIABLES ANTES DE EJECUTAR\n",
    "# ---------------------------------------------"
   ]
  },
  {
   "cell_type": "code",
   "execution_count": 21,
   "id": "6962babf",
   "metadata": {},
   "outputs": [],
   "source": [
    "\n",
    "nombre_lote = \"LOTE_20250614\"\n",
    "\n",
    "nombre_modulo = \"MODULO_03\""
   ]
  },
  {
   "cell_type": "code",
   "execution_count": 22,
   "id": "647f8c57",
   "metadata": {},
   "outputs": [
    {
     "name": "stdout",
     "output_type": "stream",
     "text": [
      "Entorno detectado: Local\n",
      "Ruta base: G:/Mi unidad/TFM_EVA_MARTIN/Modulos\n"
     ]
    }
   ],
   "source": [
    "# ---------------------------------------------\n",
    "# Configuración del entorno (Colab y Local)\n",
    "# ---------------------------------------------\n",
    "\n",
    "try:\n",
    "    import google.colab\n",
    "    EN_COLAB = True\n",
    "except ImportError:\n",
    "    EN_COLAB = False\n",
    "\n",
    "if EN_COLAB:\n",
    "    from google.colab import drive\n",
    "    drive.mount(\"/content/drive\", force_remount=True)\n",
    "    ruta_base = \"/content/drive/MyDrive/TFM_EVA_MARTIN/Modulos\"\n",
    "else:\n",
    "    ruta_base = \"G:/Mi unidad/TFM_EVA_MARTIN/Modulos\"\n",
    "\n",
    "print(f\"Entorno detectado: {'Google Colab' if EN_COLAB else 'Local'}\")\n",
    "print(f\"Ruta base: {ruta_base}\")\n",
    "\n",
    "lote_id = nombre_lote.replace(\"LOTE_\", \"\")"
   ]
  },
  {
   "cell_type": "code",
   "execution_count": 23,
   "id": "c87923a6",
   "metadata": {},
   "outputs": [],
   "source": [
    "import sys\n",
    "import os\n",
    "ruta_config = os.path.join(ruta_base, \"config.yaml\")\n",
    "\n",
    "if ruta_base not in sys.path:\n",
    "    sys.path.append(ruta_base)\n",
    "import yaml\n",
    "\n",
    "# Cargar configuración desde el archivo YAML\n",
    "with open(ruta_config, \"r\", encoding=\"utf-8\") as f:\n",
    "    config = yaml.safe_load(f)\n",
    "\n",
    "config = yaml.safe_load(open(ruta_config))\n",
    "\n",
    "# Extraer bloque de parámetros (KeyError si falta alguna clave)\n",
    "params = config[\"parametros\"]"
   ]
  },
  {
   "cell_type": "markdown",
   "id": "85d00df5",
   "metadata": {},
   "source": [
    "# Carga utilidades comunes e inicialización del entorno"
   ]
  },
  {
   "cell_type": "code",
   "execution_count": 24,
   "id": "dfb80eb0",
   "metadata": {},
   "outputs": [
    {
     "name": "stderr",
     "output_type": "stream",
     "text": [
      "2025-06-24 00:16:56,866 - INFO - 📁 Entorno inicializado para MODULO_03\n",
      "2025-06-24 00:16:56,869 - INFO - 📂 Ruta entrada: G:/Mi unidad/TFM_EVA_MARTIN\\Modulos\\MODULO_02\\./salida\n",
      "2025-06-24 00:16:56,871 - INFO - 📂 Ruta salida: G:/Mi unidad/TFM_EVA_MARTIN/Modulos\\MODULO_03\\./salida\n",
      "2025-06-24 00:16:56,874 - INFO - 📂 Ruta logs: G:/Mi unidad/TFM_EVA_MARTIN/Modulos\\MODULO_03\\./logs\n",
      "2025-06-24 00:16:56,878 - INFO - 📂 Ruta ejemplos: G:/Mi unidad/TFM_EVA_MARTIN/Modulos\\MODULO_03\\./ejemplos\n",
      "2025-06-24 00:16:56,880 - INFO - 🔗 Módulo anterior: MODULO_02\n",
      "2025-06-24 00:16:56,883 - INFO - 🆔 Lote ID: 20250614\n"
     ]
    }
   ],
   "source": [
    "import pandas as pd\n",
    "\n",
    "import utilidades_comunes\n",
    "\n",
    "# 1. Configurar logger\n",
    "import logging\n",
    "logger = utilidades_comunes.configurar_logger(nombre_modulo, ruta_logs=os.path.join(ruta_base, nombre_modulo, \"logs\"))\n",
    "logger.setLevel(logging.DEBUG)\n",
    "\n",
    "# 2. Inicializar entorno\n",
    "entorno = utilidades_comunes.inicializar_entorno(nombre_modulo, nombre_lote, ruta_base, ruta_config, logger=logger)"
   ]
  },
  {
   "cell_type": "markdown",
   "id": "8ff6af8e",
   "metadata": {},
   "source": [
    "# Carga y analisis dataset de entrada"
   ]
  },
  {
   "cell_type": "code",
   "execution_count": 25,
   "id": "44788da4",
   "metadata": {},
   "outputs": [
    {
     "name": "stderr",
     "output_type": "stream",
     "text": [
      "2025-06-24 00:17:01,129 - INFO - ✅ Dataset cargado desde G:/Mi unidad/TFM_EVA_MARTIN\\Modulos\\MODULO_02\\./salida\\dataset_modulo_02_20250614.csv (4 filas, 3 columnas)\n",
      "2025-06-24 00:17:01,130 - INFO - --- Muestra de dataset de entrada (primeras 5 filas) ---\n",
      "2025-06-24 00:17:01,134 - INFO - Filas totales: 4, Columnas totales: 3\n"
     ]
    },
    {
     "name": "stderr",
     "output_type": "stream",
     "text": [
      "2025-06-24 00:17:01,152 - INFO - \n",
      "| nomfichero                                                                                            | etiqueta   | texto_etiquetado                                                                                                                                                                                                                                                                                                                                                                                                                                                                                                                                                                                                                                                                                                                                                                                                                                                                                                                                                                                                                                                                                                                                                                                                                                                                                                                                                                                                                                                                                                                                                                                                                                                                                                                                                                                                                                                                                                                                                                                                                                                                                                                                                                                                                                                                                                                                                                                                                                                                                                                                                                                                                                                                                                                                |\n",
      "|:------------------------------------------------------------------------------------------------------|:-----------|:------------------------------------------------------------------------------------------------------------------------------------------------------------------------------------------------------------------------------------------------------------------------------------------------------------------------------------------------------------------------------------------------------------------------------------------------------------------------------------------------------------------------------------------------------------------------------------------------------------------------------------------------------------------------------------------------------------------------------------------------------------------------------------------------------------------------------------------------------------------------------------------------------------------------------------------------------------------------------------------------------------------------------------------------------------------------------------------------------------------------------------------------------------------------------------------------------------------------------------------------------------------------------------------------------------------------------------------------------------------------------------------------------------------------------------------------------------------------------------------------------------------------------------------------------------------------------------------------------------------------------------------------------------------------------------------------------------------------------------------------------------------------------------------------------------------------------------------------------------------------------------------------------------------------------------------------------------------------------------------------------------------------------------------------------------------------------------------------------------------------------------------------------------------------------------------------------------------------------------------------------------------------------------------------------------------------------------------------------------------------------------------------------------------------------------------------------------------------------------------------------------------------------------------------------------------------------------------------------------------------------------------------------------------------------------------------------------------------------------------------|\n",
      "| Positivo_SD23-03943_[965021512]_MERIDIANO_900_GEN._2023-03-06_12-02-37_622143139_procesado_limpio.txt | Positivo   | Agente: Bienvenido Meridiano. Por su seguridad, esta llamada podrá ser grabada. Usted consiente en que los datos que facilite se incorporen en un fichero titularidad de Meridiano S. A. con la finalidad de gestionar la prestación del servicio. Si ya conoce nuestra política de protección de datos y no desea escucharla nuevamente, pulse o diga cero. Si su llamada es para comunicar un fallecimiento. Por favor, no se retire. En breve será atendido por uno de nuestros agentes. En breve será atendido por uno de                                                                                                                                                                                                                                                                                                                                                                                                                                                                                                                                                                                                                                                                                                                                                                                                                                                                                                                                                                                                                                                                                                                                                                                                                                                                                                                                                                                                                                                                                                                                                                                                                                                                                                                                                                                                                                                                                                                                                                                                                                                                                                                                                                                                                   |\n",
      "| Positivo_SD23-03584_[965021512]_MERIDIANO_900_GEN._2023-03-01_12-39-23_622931016_procesado_limpio.txt | Positivo   | Agente: Le atiende el contestador de 62293101.                                                                                                                                                                                                                                                                                                                                                                                                                                                                                                                                                                                                                                                                                                                                                                                                                                                                                                                                                                                                                                                                                                                                                                                                                                                                                                                                                                                                                                                                                                                                                                                                                                                                                                                                                                                                                                                                                                                                                                                                                                                                                                                                                                                                                                                                                                                                                                                                                                                                                                                                                                                                                                                                                                  |\n",
      "| Neutro_SD23-04271_[965021512]_MERIDIANO_900_GEN._2023-03-12_11-30-47_658438667_procesado_limpio.txt   | Neutro     | Agente: Le atiende el contestador de 658.  Comienza a transcribir la conversación: ¿Qué es lo que ha sucedido con su seguro de vida? ¿Ha recibido algún tipo de comunicación de nuestra parte? ¿Necesita ayuda en algo en particular? ¿Puede decirme qué ha sucedido exactamente? ¿Ha habido algún problema con la cobertura? ¿Ha recibido algún tipo de comunicación de nuestra parte                                                                                                                                                                                                                                                                                                                                                                                                                                                                                                                                                                                                                                                                                                                                                                                                                                                                                                                                                                                                                                                                                                                                                                                                                                                                                                                                                                                                                                                                                                                                                                                                                                                                                                                                                                                                                                                                                                                                                                                                                                                                                                                                                                                                                                                                                                                                                          |\n",
      "| Negativo_SD23-03822_[965021512]_MERIDIANO_900_GEN._2023-03-03_23-08-14_620135618_procesado_limpio.txt | Negativo   | Agente: Buenas noches, doña CLIENTE. Mi nombre es AGENTE, le llamo del Departamento de Asistencia de Seguros Meridiano. Doña CLIENTE, en primer lugar, trasladarle tanto a usted como al resto de familiares nuestras más sinceras condolencias por el fallecimiento de doña DIFUNTO, de su madre. Cliente: De nada, doña CLIENTE. Agente: Doña CLIENTE, le llamo porque nos ha informado Isabel, la cobradora, nos ha indicado que su madre se encuentra en el hospital de Ronda, ¿es correcto? Cliente: Sí, es correcto. Agente: Y desean ustedes realizar el velatorio en Olvera, ¿es así? Cliente: Sí, sí. Agente: En calle Azuaga 14, en el terratorio, no. A ver, un momentito, en calle Azuaga me dijo. Cliente: Calle Azuaga 14. Agente: Calle Azuaga 14, vale. Posteriormente, ¿lo que desearían dejó doña DIFUNTO indicado si lo que ella quería era entierro o incineración? Cliente: No, entierro, entierro. Agente: Entierro, vale. ¿Tienen ustedes dicho en propiedad, doña CLIENTE? Cliente: Sí, sí, tiene, tiene. Agente: Dicho en propiedad, vale. Pues un momentito que lo note aquí. Cliente: Doña CLIENTE, el dicho que tienen ustedes en propiedad, ¿saben si está ocupado o está vacío? Agente: Está ocupado con resto, pero vamos, están los restos en saco y todo. O sea, que ya hace muchos años, ¿verdad? Cliente: Sí, muchísimos. Agente: Vale. Muchísimos, son de los padres. Ah, vale. Ella ha muerto con 94 años. Vale. Agente: Pues, doña DIFUNTO, o perdón, doña CLIENTE, le comento, voy a dar ya mismo parte a los servicios funerarios para que ellos vayan a atenderla al hospital. Cliente: Vale. Agente: ¿Le van a llamar ellos para indicarle cuánto tiempo aproximadamente van a tardar en llegar? Cliente: Vale. Agente: Nosotros, doña CLIENTE, quedamos a su disposición en un teléfono gratuito que va a recibir a través de un mensaje y estamos las 24 horas, por si nos necesita para algo. Cliente: Vale. Agente: Doña CLIENTE, bueno, entiendo que el fallecimiento de doña DIFUNTO no guarda ninguna relación con el COVID-19, ¿es así? Cliente: No, no, no, nada. Agente: Vale. Otras cosas, otras cuestiones. Vale. Agente: Pues cualquier cosita, como le indicaba, quedamos a su disposición y nuevamente nuestras condolencias por la pérdida. Cliente: Vale. Agente: Entonces, ¿a ellos nos llaman y no avisan? Cliente: Sí, yo ahora voy a llamarles, les voy a dar todos los datos y lo que ustedes desean hacer y su número de teléfono para que ellos le llamen. Agente: ¿De acuerdo? Cliente: Vale, vale. Agente: Muchas gracias. A usted, y de verdad que lamentamos la pérdida. Cliente: Gracias. Agente: Un saludo. Cliente: Gracias. Agente: Gracias. Cliente: Muchas gracias. |\n",
      "2025-06-24 00:17:01,183 - INFO - \n",
      "--- Estadísticas básicas ---\n",
      "|                  |   count |   unique | top                                                                                                                                                                                                                                                                                                                                                                                                                                                                                                                           |   freq |\n",
      "|:-----------------|--------:|---------:|:------------------------------------------------------------------------------------------------------------------------------------------------------------------------------------------------------------------------------------------------------------------------------------------------------------------------------------------------------------------------------------------------------------------------------------------------------------------------------------------------------------------------------|-------:|\n",
      "| nomfichero       |       4 |        4 | Positivo_SD23-03943_[965021512]_MERIDIANO_900_GEN._2023-03-06_12-02-37_622143139_procesado_limpio.txt                                                                                                                                                                                                                                                                                                                                                                                                                         |      1 |\n",
      "| etiqueta         |       4 |        3 | Positivo                                                                                                                                                                                                                                                                                                                                                                                                                                                                                                                      |      2 |\n",
      "| texto_etiquetado |       4 |        4 | Agente: Bienvenido Meridiano. Por su seguridad, esta llamada podrá ser grabada. Usted consiente en que los datos que facilite se incorporen en un fichero titularidad de Meridiano S. A. con la finalidad de gestionar la prestación del servicio. Si ya conoce nuestra política de protección de datos y no desea escucharla nuevamente, pulse o diga cero. Si su llamada es para comunicar un fallecimiento. Por favor, no se retire. En breve será atendido por uno de nuestros agentes. En breve será atendido por uno de |      1 |\n",
      "2025-06-24 00:17:01,186 - INFO - ------------------------------------------------------------\n",
      "2025-06-24 00:17:01,322 - INFO - 💾 Muestra guardada en G:/Mi unidad/TFM_EVA_MARTIN/Modulos\\MODULO_03\\./ejemplos\\muestra_entrada.csv (4 filas)\n"
     ]
    }
   ],
   "source": [
    "patron_busqueda = os.path.join(\n",
    "    entorno[\"ruta_entrada\"],\n",
    "    f\"dataset_{entorno['nombre_modulo_anterior'].lower()}_{entorno['lote_id']}*.csv\"\n",
    ")\n",
    "\n",
    "import glob\n",
    "archivos_encontrados = glob.glob(patron_busqueda)\n",
    "\n",
    "if not archivos_encontrados:\n",
    "    raise FileNotFoundError(f\"No se encontró archivo de entrada para el lote {nombre_lote} con patrón: {patron_busqueda}\")\n",
    "\n",
    "fichero_entrada = archivos_encontrados[0]\n",
    "df_entrada = utilidades_comunes.cargar_dataset(fichero_entrada, logger=logger)\n",
    "\n",
    "utilidades_comunes.mostrar_muestra_dataset(df_entrada, \"dataset de entrada\", logger=logger)\n",
    "utilidades_comunes.guardar_muestra_dataset(df_entrada, \"entrada\", entorno[\"ruta_ejemplos\"], logger=logger, n=5)\n",
    "\n",
    "\n",
    "df = df_entrada.copy()"
   ]
  },
  {
   "cell_type": "markdown",
   "id": "51ba96f4",
   "metadata": {},
   "source": [
    "# PASO 4: Procesamiento específico del módulo"
   ]
  },
  {
   "cell_type": "code",
   "execution_count": 26,
   "id": "1fb2f6ec",
   "metadata": {},
   "outputs": [],
   "source": [
    "import os\n",
    "os.environ[\"USE_TF\"] = \"0\" \n",
    "\n",
    "import spacy\n",
    "nlp = spacy.load(\"es_core_news_sm\")\n",
    "\n",
    "from sklearn.feature_extraction.text import TfidfVectorizer\n",
    "import json"
   ]
  },
  {
   "cell_type": "code",
   "execution_count": 27,
   "id": "71ab11d0",
   "metadata": {},
   "outputs": [],
   "source": [
    "def paso_1_preprocesado(df):\n",
    "    # Quedarnos solo con la columna 'texto' y eliminar filas vacías\n",
    "    df = df[['texto_etiquetado']].dropna()\n",
    "\n",
    "    # Convertir a minúsculas y quitar espacios al inicio/final\n",
    "    df['texto_etiquetado'] = df['texto_etiquetado'].str.lower().str.strip()\n",
    "\n",
    "    # eliminar espacios múltiples intermedios\n",
    "    df['texto_etiquetado'] = df['texto_etiquetado'].str.replace(r'\\s+', ' ', regex=True)\n",
    "\n",
    "    return df"
   ]
  },
  {
   "cell_type": "code",
   "execution_count": 28,
   "id": "81640a89",
   "metadata": {},
   "outputs": [],
   "source": [
    "def paso_2_extraccion(df, nlp):\n",
    "    \"\"\"\n",
    "    Extrae frases nominales y entidades nombradas de df['texto'] usando spaCy.\n",
    "    Devuelve una lista de términos limpios y únicos.\n",
    "    \"\"\"\n",
    "    docs = nlp.pipe(df['texto_etiquetado'].astype(str).tolist(), batch_size=32)\n",
    "\n",
    "    frases = []\n",
    "    for doc in docs:\n",
    "        frases.extend([chunk.text.strip() for chunk in doc.noun_chunks])\n",
    "        frases.extend([ent.text.strip()   for ent   in doc.ents])\n",
    "\n",
    "    # Normalizar y deduplicar manteniendo orden\n",
    "    frases = [f.lower() for f in frases if f]\n",
    "    return list(dict.fromkeys(frases))\n"
   ]
  },
  {
   "cell_type": "code",
   "execution_count": 29,
   "id": "d7852e40",
   "metadata": {},
   "outputs": [],
   "source": [
    "def procesamiento(df):\n",
    "    # Paso 1: preprocesado\n",
    "    df_limpio = paso_1_preprocesado(df)\n",
    "    # Paso 2: extracción de frases y entidades\n",
    "    terminos = paso_2_extraccion(df_limpio, nlp)\n",
    "    \n",
    "    # Aquí términos es la lista de sintagmas y entidades únicas, lista para pasar al Paso 3 (TF-IDF)\n",
    "    return terminos\n"
   ]
  },
  {
   "cell_type": "code",
   "execution_count": 30,
   "id": "c5747a4e",
   "metadata": {},
   "outputs": [
    {
     "name": "stdout",
     "output_type": "stream",
     "text": [
      "['agente: bienvenido meridiano', 'su seguridad', 'esta llamada', 'usted', 'los datos', 'que', 'un fichero titularidad', 's.', 'la finalidad', 'la prestación']\n"
     ]
    }
   ],
   "source": [
    "salida = procesamiento(df)\n",
    "print(salida[:10])  # muestra los primeros 10 términos\n"
   ]
  },
  {
   "cell_type": "code",
   "execution_count": 31,
   "id": "4d9cad98",
   "metadata": {},
   "outputs": [],
   "source": [
    "from spacy.lang.es.stop_words import STOP_WORDS as stop_words_es\n",
    "from sklearn.feature_extraction.text import TfidfVectorizer\n",
    "\n",
    "# Term Frequency – Inverse Document Frequency, mide la importancia de un término dentro de un documento y respecto al corpus completo\n",
    "\n",
    "def paso_3_tfidf(frases, max_features=50, ngram_range=(1,2)):\n",
    "    vectorizer = TfidfVectorizer(\n",
    "        max_features=max_features,\n",
    "        stop_words=list(stop_words_es),\n",
    "        ngram_range=ngram_range\n",
    "    )\n",
    "    X = vectorizer.fit_transform(frases)\n",
    "    scores = X.sum(axis=0).A1\n",
    "    terminos_scores = list(zip(vectorizer.get_feature_names_out(), scores))\n",
    "    terminos_scores.sort(key=lambda x: x[1], reverse=True)\n",
    "    return terminos_scores"
   ]
  },
  {
   "cell_type": "code",
   "execution_count": 32,
   "id": "c45f3077",
   "metadata": {},
   "outputs": [
    {
     "name": "stdout",
     "output_type": "stream",
     "text": [
      "['agente: bienvenido meridiano', 'su seguridad', 'esta llamada', 'usted', 'los datos', 'que', 'un fichero titularidad', 's.', 'la finalidad', 'la prestación']\n"
     ]
    }
   ],
   "source": [
    "salida = procesamiento(df)   # lista de sintagmas + entidades\n",
    "print(salida[:10])"
   ]
  },
  {
   "cell_type": "code",
   "execution_count": null,
   "id": "426505f9",
   "metadata": {},
   "outputs": [],
   "source": [
    "#usamos TF-IDF como mecanismo para puntuar y ordenar automáticamente los términos \n",
    "# (en nuestro caso, sintagmas nominales y entidades) \n",
    "# extraídos de las transcripciones.\n",
    "# Llamamos al TF-IDF para quedarnos con, p.ej., los 100 términos más relevantes:\n",
    "tfidf_scores = paso_3_tfidf(salida, max_features=100)\n",
    "\n",
    "# Veamos los 20 primeros con su score:\n",
    "import pandas as pd\n",
    "df_tfidf = pd.DataFrame(tfidf_scores, columns=[\"termino\", \"score\"])\n",
    "print(df_tfidf.head(20))\n"
   ]
  },
  {
   "cell_type": "code",
   "execution_count": 34,
   "id": "5ba47b55",
   "metadata": {},
   "outputs": [
    {
     "name": "stdout",
     "output_type": "stream",
     "text": [
      "Total stop-words combinadas: 662\n",
      "Algunas stop-words de ejemplo: ['cuatro', 'otras', 'nuestras', 'próximo', 'hubieran', 'todas', 'tuviésemos', 'nuevo', 'esas', 'puede', 'estuvieses', 'pueden', 'nunca', 'eran', 'hoy', 'e', 'estuvo', 'hubiesen', 'grande', 'tuviese']\n",
      "\n",
      "Primeros 20 términos tras aplicar stop-words combinadas:\n",
      "   termino_tecnico     score\n",
      "0             doña  4.304155\n",
      "1          cliente  3.710336\n",
      "2            datos  3.000000\n",
      "3    fallecimiento  2.000000\n",
      "4          gracias  2.000000\n",
      "5         hospital  2.000000\n",
      "6          llamada  2.000000\n",
      "7        momentito  2.000000\n",
      "8        propiedad  2.000000\n",
      "9            resto  2.000000\n",
      "10    doña cliente  1.888170\n",
      "11         difunto  1.858166\n",
      "12            años  1.544838\n",
      "13           calle  1.544838\n",
      "14        teléfono  1.544838\n",
      "15           madre  1.462176\n",
      "16          agente  1.424358\n",
      "17    condolencias  1.089676\n",
      "18         agentes  1.000000\n",
      "19      asistencia  1.000000\n"
     ]
    }
   ],
   "source": [
    "from spacy.lang.es.stop_words import STOP_WORDS as stop_spacy\n",
    "from stop_words import get_stop_words\n",
    "import re\n",
    "\n",
    "# 1) Lista combinada de stop-words\n",
    "stop_sw = set(stop_spacy) | set(get_stop_words('spanish'))\n",
    "print(f\"Total stop-words combinadas: {len(stop_sw)}\")\n",
    "print(\"Algunas stop-words de ejemplo:\", list(stop_sw)[:20])\n",
    "\n",
    "# 2) Filtrado con la lista generada\n",
    "def paso_4_filtrado(terminos_scores, stop_es):\n",
    "    filtrados = []\n",
    "    for t, s in terminos_scores:\n",
    "        clave = re.sub(r'\\W+', '', t).lower()\n",
    "        if len(clave) < 3 or clave.isdigit() or clave in stop_es:\n",
    "            continue\n",
    "        filtrados.append((t, s))\n",
    "    return filtrados\n",
    "\n",
    "# Reaplicamos el filtrado a los tfidf_scores\n",
    "filtrados = paso_4_filtrado(tfidf_scores, stop_sw)\n",
    "df_filtrado = pd.DataFrame(filtrados, columns=[\"termino_tecnico\", \"score\"])\n",
    "\n",
    "print(\"\\nPrimeros 20 términos tras aplicar stop-words combinadas:\")\n",
    "print(df_filtrado.head(20))"
   ]
  },
  {
   "cell_type": "code",
   "execution_count": 35,
   "id": "3f03624c",
   "metadata": {},
   "outputs": [],
   "source": [
    "def paso_4_pos_filter(terminos_scores, nlp, stop_es, min_score=1.5):\n",
    "    \"\"\"\n",
    "    - Sólo mantenemos sintagmas cuya raíz sea NOUN o PROPN\n",
    "    - Aplicamos la lista de stop-words combinada\n",
    "    - Podemos además forzar un umbral mínimo de score TF-IDF\n",
    "    \"\"\"\n",
    "    filtrados = []\n",
    "    for t, s in terminos_scores:\n",
    "        if s < min_score:\n",
    "            continue\n",
    "        # Volvemos a analizar el sintagma como Doc\n",
    "        doc = nlp(t)\n",
    "        # Convertimos todo el Doc en un Span para poder usar .root\n",
    "        span = doc[:]  \n",
    "        head = span.root  # ahora sí es un Token\n",
    "        # 1) POS check\n",
    "        if head.pos_ not in (\"NOUN\", \"PROPN\"):\n",
    "            continue\n",
    "        # 2) Stop-words sobre el lema\n",
    "        clave = head.lemma_.lower()\n",
    "        if clave in stop_es:\n",
    "            continue\n",
    "        # 3) longitud mínima del lema\n",
    "        if len(clave) < 3:\n",
    "            continue\n",
    "        filtrados.append((t, s))\n",
    "    return filtrados"
   ]
  },
  {
   "cell_type": "code",
   "execution_count": 36,
   "id": "658ac515",
   "metadata": {},
   "outputs": [
    {
     "name": "stdout",
     "output_type": "stream",
     "text": [
      "   termino_tecnico     score\n",
      "0             doña  4.304155\n",
      "1          cliente  3.710336\n",
      "2            datos  3.000000\n",
      "3    fallecimiento  2.000000\n",
      "4          gracias  2.000000\n",
      "5         hospital  2.000000\n",
      "6        momentito  2.000000\n",
      "7        propiedad  2.000000\n",
      "8            resto  2.000000\n",
      "9     doña cliente  1.888170\n",
      "10         difunto  1.858166\n",
      "11            años  1.544838\n",
      "12           calle  1.544838\n",
      "13        teléfono  1.544838\n"
     ]
    }
   ],
   "source": [
    "filtrados = paso_4_pos_filter(tfidf_scores, nlp, stop_sw, min_score=1.5)\n",
    "import pandas as pd\n",
    "df_filtrado = pd.DataFrame(filtrados, columns=[\"termino_tecnico\",\"score\"])\n",
    "print(df_filtrado.head(20))"
   ]
  },
  {
   "cell_type": "code",
   "execution_count": 37,
   "id": "13d3c12e",
   "metadata": {},
   "outputs": [
    {
     "name": "stderr",
     "output_type": "stream",
     "text": [
      "2025-06-24 00:17:46,255 - INFO - Términos técnicos acumulados guardados: 14 entradas en G:/Mi unidad/TFM_EVA_MARTIN/Modulos\\MODULO_03\\./salida\\terminos_tecnicos.json\n"
     ]
    }
   ],
   "source": [
    "# ─── 5. Guardar JSON con lista de términos técnicos\n",
    "try:\n",
    "    # Usa entorno[\"ruta_salida\"] como carpeta de salida estándar\n",
    "    ruta_json = os.path.join(entorno[\"ruta_salida\"], \"terminos_tecnicos.json\")\n",
    "    \n",
    "    # 1) Carga existentes (si los hay)\n",
    "    if os.path.exists(ruta_json):\n",
    "        with open(ruta_json, 'r', encoding='utf-8') as f:\n",
    "            existentes = json.load(f)\n",
    "    else:\n",
    "        existentes = []\n",
    "\n",
    "    # 2) Extrae la lista nueva de términos (filtrados puede venir de tu último paso)\n",
    "    nuevos = [t for t, s in filtrados]\n",
    "\n",
    "    # 3) Combina manteniendo orden y sin duplicados\n",
    "    todos = list(dict.fromkeys(existentes + nuevos))\n",
    "\n",
    "    # 4) Escribe de nuevo el JSON \"acumulado\"\n",
    "    with open(ruta_json, 'w', encoding='utf-8') as f:\n",
    "        json.dump(todos, f, ensure_ascii=False, indent=4)\n",
    "\n",
    "    logger.info(f\"Términos técnicos acumulados guardados: {len(todos)} entradas en {ruta_json}\")\n",
    "    # 5) Cargar el JSON acumulado en un DataFrame df_salida\n",
    "    #import pandas as pd\n",
    "    #df_salida = pd.DataFrame(todos, columns=[\"termino_tecnico\"])\n",
    "    #logger.info(f\"DataFrame df_salida creado con {len(df_salida)} términos\")\n",
    "    \n",
    "except Exception as e_json:\n",
    "    logger.error(f\"Error al guardar o cargar términos técnicos: {e_json}\", exc_info=True)\n"
   ]
  },
  {
   "cell_type": "code",
   "execution_count": null,
   "id": "624e9570",
   "metadata": {},
   "outputs": [
    {
     "name": "stderr",
     "output_type": "stream",
     "text": [
      "2025-06-24 00:17:51,359 - INFO - 📦 Dataset guardado en: G:/Mi unidad/TFM_EVA_MARTIN/Modulos\\MODULO_03\\./salida\\dataset_modulo_03_20250614.csv (4 filas, 3 columnas)\n"
     ]
    }
   ],
   "source": [
    "# ------------------------------------\n",
    "# PASO 5: Guardar dataset salida con nombre estándar\n",
    "# guardamos el dataset que ya generamos en el paso anterior\n",
    "# lo arrastramos al siguiente módulo\n",
    "# ------------------------------------\n",
    "nombre_salida = os.path.join(\n",
    "    entorno[\"ruta_salida\"],\n",
    "    f\"dataset_{nombre_modulo.lower()}_{entorno['lote_id']}.csv\"\n",
    ")\n",
    "\n",
    "utilidades_comunes.guardar_dataset(df_entrada, nombre_salida, logger=logger)"
   ]
  },
  {
   "cell_type": "code",
   "execution_count": 39,
   "id": "508c7528",
   "metadata": {},
   "outputs": [
    {
     "name": "stderr",
     "output_type": "stream",
     "text": [
      "2025-06-24 00:17:54,509 - INFO - --- Muestra de modulo_03_20250614 (primeras 5 filas) ---\n",
      "2025-06-24 00:17:54,513 - INFO - Filas totales: 14, Columnas totales: 1\n",
      "2025-06-24 00:17:54,564 - INFO - \n",
      "| termino_tecnico   |\n",
      "|:------------------|\n",
      "| doña              |\n",
      "| cliente           |\n",
      "| datos             |\n",
      "| fallecimiento     |\n",
      "| gracias           |\n",
      "2025-06-24 00:17:54,615 - INFO - \n",
      "--- Estadísticas básicas ---\n",
      "|                 |   count |   unique | top   |   freq |\n",
      "|:----------------|--------:|---------:|:------|-------:|\n",
      "| termino_tecnico |      14 |       14 | doña  |      1 |\n",
      "2025-06-24 00:17:54,720 - INFO - ------------------------------------------------------------\n",
      "2025-06-24 00:17:54,780 - INFO - ✅ Finalización del procesamiento del módulo MODULO_03\n",
      "2025-06-24 00:17:54,783 - INFO - 📦 Dataset final disponible en: G:/Mi unidad/TFM_EVA_MARTIN/Modulos\\MODULO_03\\./salida\\dataset_modulo_03_20250614.csv\n"
     ]
    }
   ],
   "source": [
    "# ------------------------------------\n",
    "# PASO 6: Mostrar muestra final\n",
    "# ------------------------------------\n",
    "nombre_muestra = f\"{nombre_modulo.lower()}_{entorno['lote_id']}\"\n",
    "utilidades_comunes.mostrar_muestra_dataset(df_salida, nombre_muestra, logger=logger)\n",
    "\n",
    "logger.info(f\"✅ Finalización del procesamiento del módulo {nombre_modulo}\")\n",
    "logger.info(f\"📦 Dataset final disponible en: {nombre_salida}\")"
   ]
  }
 ],
 "metadata": {
  "kernelspec": {
   "display_name": "miar_rl",
   "language": "python",
   "name": "python3"
  },
  "language_info": {
   "codemirror_mode": {
    "name": "ipython",
    "version": 3
   },
   "file_extension": ".py",
   "mimetype": "text/x-python",
   "name": "python",
   "nbconvert_exporter": "python",
   "pygments_lexer": "ipython3",
   "version": "3.8.20"
  }
 },
 "nbformat": 4,
 "nbformat_minor": 5
}
