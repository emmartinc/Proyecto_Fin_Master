{
 "cells": [
  {
   "cell_type": "code",
   "execution_count": 2,
   "id": "ca84450d",
   "metadata": {},
   "outputs": [
    {
     "name": "stdout",
     "output_type": "stream",
     "text": [
      "✅ Dataset generado y guardado en: G:\\Mi unidad\\Transcripciones_Limpias\\dataset_generado.csv\n"
     ]
    }
   ],
   "source": [
    "import os\n",
    "import pandas as pd\n",
    "\n",
    "# Ruta a la carpeta con los .txt\n",
    "carpeta_txt = \"G:\\Mi unidad\\Transcripciones_Limpias\"\n",
    "def leer_archivo_con_fallback(ruta):\n",
    "    try:\n",
    "        with open(ruta, \"r\", encoding=\"utf-8\") as f:\n",
    "            return f.read().strip()\n",
    "    except UnicodeDecodeError:\n",
    "        with open(ruta, \"r\", encoding=\"latin-1\") as f:\n",
    "            return f.read().strip()\n",
    "\n",
    "\n",
    "filas = []\n",
    "\n",
    "for nombre_fichero in os.listdir(carpeta_txt):\n",
    "    if nombre_fichero.endswith(\".txt\"):\n",
    "        ruta = os.path.join(carpeta_txt, nombre_fichero)\n",
    "\n",
    "        if nombre_fichero.startswith(\"Positivo\"):\n",
    "            etiqueta = \"Positivo\"\n",
    "        elif nombre_fichero.startswith(\"Neutro\"):\n",
    "            etiqueta = \"Neutro\"\n",
    "        elif nombre_fichero.startswith(\"Negativo\"):\n",
    "            etiqueta = \"Negativo\"\n",
    "        else:\n",
    "            continue\n",
    "\n",
    "        contenido = leer_archivo_con_fallback(ruta)\n",
    "\n",
    "        filas.append({\n",
    "            \"nomfichero\": nombre_fichero,\n",
    "            \"etiqueta\": etiqueta,\n",
    "            \"transcripcion\": contenido,\n",
    "            \"texto_etiquetado\": contenido\n",
    "        })\n",
    "\n",
    "\n",
    "# Crear el DataFrame\n",
    "df = pd.DataFrame(filas)\n",
    "\n",
    "# Guardar el CSV\n",
    "output_path = os.path.join(carpeta_txt, \"dataset_generado.csv\")\n",
    "df.to_csv(output_path, index=False, encoding=\"utf-8\")\n",
    "print(f\"✅ Dataset generado y guardado en: {output_path}\")\n",
    "\n"
   ]
  }
 ],
 "metadata": {
  "kernelspec": {
   "display_name": "miar_rl",
   "language": "python",
   "name": "python3"
  },
  "language_info": {
   "codemirror_mode": {
    "name": "ipython",
    "version": 3
   },
   "file_extension": ".py",
   "mimetype": "text/x-python",
   "name": "python",
   "nbconvert_exporter": "python",
   "pygments_lexer": "ipython3",
   "version": "3.8.20"
  }
 },
 "nbformat": 4,
 "nbformat_minor": 5
}
